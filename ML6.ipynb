{
  "nbformat": 4,
  "nbformat_minor": 0,
  "metadata": {
    "colab": {
      "provenance": []
    },
    "kernelspec": {
      "name": "python3",
      "display_name": "Python 3"
    },
    "language_info": {
      "name": "python"
    }
  },
  "cells": [
    {
      "cell_type": "code",
      "execution_count": null,
      "metadata": {
        "id": "qw1et1F-a8ru"
      },
      "outputs": [],
      "source": [
        "from sklearn.ensemble import AdaBoostClassifier\n",
        "from sklearn import datasets\n",
        "from sklearn.model_selection import train_test_split\n",
        "from sklearn import metrics"
      ]
    },
    {
      "cell_type": "code",
      "source": [
        "iris=datasets.load_iris()\n",
        "X=iris.data\n",
        "y=iris.target\n"
      ],
      "metadata": {
        "id": "h5abuk9KbXr-"
      },
      "execution_count": null,
      "outputs": []
    },
    {
      "cell_type": "code",
      "source": [
        "X_train,X_test,y_train,y_test=train_test_split(X,y,test_size=0.3)"
      ],
      "metadata": {
        "id": "BcbyKCXbb1cG"
      },
      "execution_count": null,
      "outputs": []
    },
    {
      "cell_type": "code",
      "source": [
        "abc=AdaBoostClassifier(n_estimators=50,learning_rate=1)\n",
        "model=abc.fit(X_train,y_train)\n",
        "y_pred=model.predict(X_test)"
      ],
      "metadata": {
        "id": "gNleeY5GcDBV"
      },
      "execution_count": null,
      "outputs": []
    },
    {
      "cell_type": "code",
      "source": [
        "print(f\"Accuracy:{metrics.accuracy_score(y_test,y_pred)}\")"
      ],
      "metadata": {
        "colab": {
          "base_uri": "https://localhost:8080/"
        },
        "id": "fZNVMa-XcFtu",
        "outputId": "4e6eddc0-011c-40c1-e8a1-0e4bd59f17ea"
      },
      "execution_count": null,
      "outputs": [
        {
          "output_type": "stream",
          "name": "stdout",
          "text": [
            "Accuracy:0.9111111111111111\n"
          ]
        }
      ]
    },
    {
      "cell_type": "code",
      "source": [
        "from sklearn.naive_bayes import GaussianNB\n",
        "NB=GaussianNB()\n",
        "abc=AdaBoostClassifier(n_estimators=50,estimator=NB,learning_rate=1)\n",
        "model=abc.fit(X_train,y_train)\n",
        "y_pred=model.predict(X_test)\n",
        "print(f\"Accuracy:{metrics.accuracy_score(y_test,y_pred)}\")"
      ],
      "metadata": {
        "colab": {
          "base_uri": "https://localhost:8080/"
        },
        "id": "oTRMn16Qcn73",
        "outputId": "1c322f6a-8b7c-41c2-ab74-1f1cfc2d60da"
      },
      "execution_count": null,
      "outputs": [
        {
          "output_type": "stream",
          "name": "stdout",
          "text": [
            "Accuracy:0.9333333333333333\n"
          ]
        }
      ]
    },
    {
      "cell_type": "markdown",
      "source": [
        "K fold cross validation\n"
      ],
      "metadata": {
        "id": "XlA5kHKadmXu"
      }
    },
    {
      "cell_type": "code",
      "source": [
        "from numpy import mean\n",
        "from numpy import std\n",
        "from sklearn.datasets import make_classification\n",
        "from sklearn.model_selection import RepeatedStratifiedKFold\n",
        "from sklearn.model_selection import cross_val_score\n",
        "X,y=make_classification(n_samples=1000,n_features=20,n_informative=15,n_redundant=5,random_state=6)\n",
        "model=AdaBoostClassifier()\n",
        "cv=RepeatedStratifiedKFold(n_splits=10,n_repeats=3,random_state=1)\n",
        "n_scores=cross_val_score(model,X,y,scoring='accuracy',cv=cv,n_jobs=-1,error_score='raise')\n",
        "print('Accuracy: %.3f (%.3f)' % (mean(n_scores), std(n_scores)))"
      ],
      "metadata": {
        "colab": {
          "base_uri": "https://localhost:8080/"
        },
        "id": "S29hUt2KeavS",
        "outputId": "db3f014b-6519-4f40-fa96-bc4241a6ce83"
      },
      "execution_count": null,
      "outputs": [
        {
          "output_type": "stream",
          "name": "stdout",
          "text": [
            "Accuracy: 0.798 (0.034)\n"
          ]
        }
      ]
    },
    {
      "cell_type": "code",
      "source": [
        "X[0]\n"
      ],
      "metadata": {
        "colab": {
          "base_uri": "https://localhost:8080/"
        },
        "id": "0jx2pXnke23t",
        "outputId": "8eacb4b6-70b4-44e2-818a-22c4421fdb76"
      },
      "execution_count": null,
      "outputs": [
        {
          "output_type": "execute_result",
          "data": {
            "text/plain": [
              "array([ -3.47224758,   1.95378146,   0.04875169,  -0.91592588,\n",
              "        -3.54022468,   1.96405547,  -7.72564954,  -2.64787168,\n",
              "        -1.81726906,  -1.67104974,   2.33762043,  -4.30273117,\n",
              "         0.4839841 ,  -1.28253034, -10.6704077 ,  -0.7641103 ,\n",
              "        -3.58493721,   2.07283886,   0.08385173,   0.91461126])"
            ]
          },
          "metadata": {},
          "execution_count": 20
        }
      ]
    },
    {
      "cell_type": "code",
      "source": [
        "row=[[ -3.47224758,   1.95378146,   0.04875169,  -0.91592588,\n",
        "        -3.54022468,   1.96405547,  -7.72564954,  -2.64787168,\n",
        "        -1.81726906,  -1.67104974,   2.33762043,  -4.30273117,\n",
        "         0.4839841 ,  -1.28253034, -10.6704077 ,  -0.7641103 ,\n",
        "        -3.58493721,   2.07283886,   0.08385173,   0.91461126]]\n",
        "model.fit(X,y)\n",
        "yhat=model.predict(row)\n",
        "model.fit(X,y)\n",
        "print(f\"Predicted class:{yhat[0]}\")"
      ],
      "metadata": {
        "colab": {
          "base_uri": "https://localhost:8080/"
        },
        "id": "iPzrVLGtft-z",
        "outputId": "190f3eb1-e429-42bc-d216-41753f215d65"
      },
      "execution_count": null,
      "outputs": [
        {
          "output_type": "stream",
          "name": "stdout",
          "text": [
            "Predicted class:0\n"
          ]
        }
      ]
    },
    {
      "cell_type": "markdown",
      "source": [
        "hyper parameter tuning"
      ],
      "metadata": {
        "id": "0biv-S_eglj6"
      }
    },
    {
      "cell_type": "code",
      "source": [
        "from matplotlib import pyplot\n",
        "from sklearn.tree import DecisionTreeClassifier\n",
        "def get_dataset():\n",
        "  X,y=make_classification(n_samples=1000,n_features=20,n_informative=15,n_redundant=5,random_state=6)\n",
        "  return X,y\n",
        "def get_models():\n",
        "  models=dict()\n",
        "  for i in range (1,11):\n",
        "    base=DecisionTreeClassifier(max_depth=i)\n",
        "    models[str(i)]=AdaBoostClassifier(estimator=base)\n",
        "  return models\n",
        "def  evaluate_model(model,X,y):\n",
        "  cv=RepeatedStratifiedKFold(n_splits=10,n_repeats=3,random_state=1)\n",
        "  scores =cross_val_score(model,X,y,scoring='accuracy',cv=cv,n_jobs=-1)\n",
        "  return scores\n",
        "X,y=get_dataset()\n",
        "models=get_models()\n",
        "\n",
        "results,names=list(),list()\n",
        "for name,model in models.items():\n",
        "  scores=evaluate_model(model,X,y)\n",
        "  results.append(scores)\n",
        "  names.append(name)\n",
        "  print(f\"{name}:{mean(scores)}\")\n",
        "pyplot.boxplot(results,labels=names)\n",
        "pyplot.show()"
      ],
      "metadata": {
        "colab": {
          "base_uri": "https://localhost:8080/",
          "height": 638
        },
        "id": "CNDa6RJKilIr",
        "outputId": "e61fe268-2f42-4efd-aa59-e793d24ad3f8"
      },
      "execution_count": null,
      "outputs": [
        {
          "output_type": "stream",
          "name": "stdout",
          "text": [
            "1:0.7983333333333335\n",
            "2:0.853\n",
            "3:0.8936666666666665\n",
            "4:0.913\n",
            "5:0.924\n",
            "6:0.9303333333333335\n",
            "7:0.9319999999999999\n",
            "8:0.9333333333333335\n",
            "9:0.9329999999999999\n",
            "10:0.9359999999999998\n"
          ]
        },
        {
          "output_type": "stream",
          "name": "stderr",
          "text": [
            "<ipython-input-31-e457de7c161d>:25: MatplotlibDeprecationWarning: The 'labels' parameter of boxplot() has been renamed 'tick_labels' since Matplotlib 3.9; support for the old name will be dropped in 3.11.\n",
            "  pyplot.boxplot(results,labels=names)\n"
          ]
        },
        {
          "output_type": "display_data",
          "data": {
            "text/plain": [
              "<Figure size 640x480 with 1 Axes>"
            ],
            "image/png": "[encoded data removed]"
          },
          "metadata": {}
        }
      ]
    },
    {
      "cell_type": "code",
      "source": [],
      "metadata": {
        "id": "nDOUVudcmnFn"
      },
      "execution_count": null,
      "outputs": []
    },
    {
      "cell_type": "code",
      "source": [
        "from sklearn.model_selection import GridSearchCV\n",
        "X,y=make_classification()\n",
        "model=AdaBoostClassifier()\n",
        "cv=RepeatedStratifiedKFold(n_splits=10,n_repeats=3,random_state=1)\n",
        "grid_param = {\n",
        "    'n_estimators': [50, 100, 150],\n",
        "    'learning_rate': [0.01, 0.1, 1]\n",
        "}\n",
        "grid_search=GridSearchCV(estimator=model,param_grid=grid_param,n_jobs=-1,cv=cv,scoring='accuracy')\n",
        "grid_result=grid_search.fit(X,y)\n",
        "print(\"Best:%f using %s\"%(grid_result.best_score_,grid_result.best_params_))\n",
        "means=grid_result.cv_results_['mean_test_score']\n",
        "stds=grid_result.cv_results_['std_test_score']\n",
        "params=grid_result.cv_results_['params']\n",
        "for mean, stdev,param in zip(means,stds,params):\n",
        "  print(\"%f (%f) with: %r\"%(mean,stdev,param))"
      ],
      "metadata": {
        "colab": {
          "base_uri": "https://localhost:8080/"
        },
        "id": "cbicz1fZkojg",
        "outputId": "3ca8de68-ea68-4b12-917e-f00536f1f792"
      },
      "execution_count": null,
      "outputs": [
        {
          "output_type": "stream",
          "name": "stdout",
          "text": [
            "Best:0.836667 using {'learning_rate': 0.01, 'n_estimators': 50}\n",
            "0.836667 (0.113969) with: {'learning_rate': 0.01, 'n_estimators': 50}\n",
            "0.833333 (0.110554) with: {'learning_rate': 0.01, 'n_estimators': 100}\n",
            "0.823333 (0.111604) with: {'learning_rate': 0.01, 'n_estimators': 150}\n",
            "0.810000 (0.110604) with: {'learning_rate': 0.1, 'n_estimators': 50}\n",
            "0.800000 (0.112546) with: {'learning_rate': 0.1, 'n_estimators': 100}\n",
            "0.796667 (0.119675) with: {'learning_rate': 0.1, 'n_estimators': 150}\n",
            "0.780000 (0.127541) with: {'learning_rate': 1, 'n_estimators': 50}\n",
            "0.790000 (0.113578) with: {'learning_rate': 1, 'n_estimators': 100}\n",
            "0.783333 (0.115710) with: {'learning_rate': 1, 'n_estimators': 150}\n"
          ]
        }
      ]
    },
    {
      "cell_type": "code",
      "source": [
        "from sklearn.datasets import make_regression\n",
        "from sklearn.linear_model import LinearRegression\n",
        "from sklearn.ensemble import AdaBoostRegressor\n",
        "from sklearn.model_selection import RepeatedKFold, cross_val_score\n",
        "from matplotlib import pyplot as plt\n",
        "import numpy as np\n",
        "\n",
        "def get_dataset():\n",
        "    X, y = make_regression(n_samples=1000, n_features=20, noise=0.1, random_state=6)\n",
        "    return X, y\n",
        "\n",
        "def get_models():\n",
        "    models = dict()\n",
        "    for i in range(1, 11):\n",
        "        base = LinearRegression()  # Changed from LogisticRegression to LinearRegression\n",
        "        models[str(i)] = AdaBoostRegressor(estimator=base, n_estimators=i)\n",
        "    return models\n",
        "\n",
        "def evaluate_model(model, X, y):\n",
        "    cv = RepeatedKFold(n_splits=10, n_repeats=3, random_state=1)\n",
        "    scores = cross_val_score(model, X, y, scoring='neg_mean_squared_error', cv=cv, n_jobs=-1)\n",
        "    return scores\n",
        "\n",
        "X, y = get_dataset()\n",
        "models = get_models()\n",
        "\n",
        "results, names = list(), list()\n",
        "for name, model in models.items():\n",
        "    scores = evaluate_model(model, X, y)\n",
        "    results.append(scores)\n",
        "    names.append(name)\n",
        "    print(f\"{name}: {np.mean(scores):.4f}\")\n",
        "\n",
        "plt.boxplot(results, labels=names)\n",
        "plt.show()\n"
      ],
      "metadata": {
        "colab": {
          "base_uri": "https://localhost:8080/",
          "height": 638
        },
        "id": "b9DSXcN-wC09",
        "outputId": "b9ccb9ec-5324-4aff-b06d-24a9e6f91ddf"
      },
      "execution_count": null,
      "outputs": [
        {
          "output_type": "stream",
          "name": "stdout",
          "text": [
            "1: -0.0110\n",
            "2: -0.0111\n",
            "3: -0.0109\n",
            "4: -0.0109\n",
            "5: -0.0109\n",
            "6: -0.0110\n",
            "7: -0.0109\n",
            "8: -0.0109\n",
            "9: -0.0109\n",
            "10: -0.0109\n"
          ]
        },
        {
          "output_type": "stream",
          "name": "stderr",
          "text": [
            "<ipython-input-56-6dc43d3a4212>:34: MatplotlibDeprecationWarning: The 'labels' parameter of boxplot() has been renamed 'tick_labels' since Matplotlib 3.9; support for the old name will be dropped in 3.11.\n",
            "  plt.boxplot(results, labels=names)\n"
          ]
        },
        {
          "output_type": "display_data",
          "data": {
            "text/plain": [
              "<Figure size 640x480 with 1 Axes>"
            ],
            "image/png": "[encoded data removed]"
          },
          "metadata": {}
        }
      ]
    }
  ]
}